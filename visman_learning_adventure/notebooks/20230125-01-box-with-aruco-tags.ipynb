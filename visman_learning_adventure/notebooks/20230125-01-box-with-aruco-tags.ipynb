{
 "cells": [
  {
   "attachments": {},
   "cell_type": "markdown",
   "metadata": {},
   "source": [
    "I want to generate a box with four aruco tags on each side.\n",
    "They will be placed in a grid configuration, and should make it reasonably easy to detect the box from any angle.\n",
    "\n",
    "\n",
    "- https://answers.gazebosim.org//question/23985/change-color-of-one-side-of-box/"
   ]
  },
  {
   "cell_type": "code",
   "execution_count": 23,
   "metadata": {},
   "outputs": [
    {
     "name": "stdout",
     "output_type": "stream",
     "text": [
      "The autoreload extension is already loaded. To reload it, use:\n",
      "  %reload_ext autoreload\n"
     ]
    }
   ],
   "source": [
    "%load_ext autoreload\n",
    "%autoreload 2\n",
    "\n",
    "import sys\n",
    "\n",
    "sys.path.insert(0, \"../src\")"
   ]
  },
  {
   "cell_type": "code",
   "execution_count": 28,
   "metadata": {},
   "outputs": [],
   "source": [
    "from camera import (\n",
    "    move_camera_pos,\n",
    "    get_camera_image_rgb,\n",
    "    get_camera_image_depth,\n",
    "    draw_aruco_grid,\n",
    "    extract_aruco_tags,\n",
    "    draw_aruco_tags,\n",
    ")\n",
    "import rospy\n",
    "import matplotlib.pyplot as plt\n",
    "import cv2 as cv\n",
    "\n",
    "base_path = \"../models/calibration_box/materials/textures\"\n",
    "\n",
    "# create 6 faces of a cube, in groups of 4\n",
    "faces = 6\n",
    "corners = 4\n",
    "for i in range(faces):\n",
    "    ids = [(i * corners) + j for j in range(corners)]\n",
    "    draw_aruco_grid(2, 2, ids=ids, figsize=(5, 5))\n",
    "    plt.savefig(f\"{base_path}/aruco_{i}.png\", bbox_inches=\"tight\")\n",
    "    plt.close()"
   ]
  },
  {
   "cell_type": "code",
   "execution_count": 27,
   "metadata": {},
   "outputs": [
    {
     "data": {
      "image/png": "[encoded data removed]",
      "text/plain": [
       "<Figure size 640x480 with 1 Axes>"
      ]
     },
     "metadata": {},
     "output_type": "display_data"
    }
   ],
   "source": [
    "img = cv.imread(f\"{base_path}/aruco_3.png\")\n",
    "draw_aruco_tags(*extract_aruco_tags(img))\n",
    "plt.show()"
   ]
  },
  {
   "attachments": {},
   "cell_type": "markdown",
   "metadata": {},
   "source": [
    "There's a bit of programming that I need to do in order to build the actual cube.\n",
    "It'd be tedious to create each side individually, so I'm putting together a jinja template that will help generate the cube for me.\n",
    "\n",
    "I'm also modifying the materials script to use paramters.\n",
    "\n",
    "- https://ogrecave.github.io/ogre/api/1.11/_scripts.html#Format"
   ]
  }
 ],
 "metadata": {
  "kernelspec": {
   "display_name": "Python 3",
   "language": "python",
   "name": "python3"
  },
  "language_info": {
   "codemirror_mode": {
    "name": "ipython",
    "version": 3
   },
   "file_extension": ".py",
   "mimetype": "text/x-python",
   "name": "python",
   "nbconvert_exporter": "python",
   "pygments_lexer": "ipython3",
   "version": "3.8.10 (default, Nov 14 2022, 12:59:47) \n[GCC 9.4.0]"
  },
  "orig_nbformat": 4,
  "vscode": {
   "interpreter": {
    "hash": "767d51c1340bd893661ea55ea3124f6de3c7a262a8b4abca0554b478b1e2ff90"
   }
  }
 },
 "nbformat": 4,
 "nbformat_minor": 2
}
