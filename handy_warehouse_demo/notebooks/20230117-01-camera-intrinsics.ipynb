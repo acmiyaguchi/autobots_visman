{
 "cells": [
  {
   "cell_type": "code",
   "execution_count": 3,
   "metadata": {},
   "outputs": [
    {
     "name": "stdout",
     "output_type": "stream",
     "text": [
      "/camera/aligned_depth_to_color/camera_info\n",
      "/camera/color/camera_info\n",
      "/camera/depth/camera_info\n",
      "/camera/infra1/camera_info\n",
      "/camera/infra2/camera_info\n"
     ]
    }
   ],
   "source": [
    "! rostopic list | grep camera_info"
   ]
  },
  {
   "attachments": {},
   "cell_type": "markdown",
   "metadata": {},
   "source": [
    "Note that we're publishing our new aligned camera information to `/camera/color/camera_info` using the nodelet for `depth_image_proc/register`."
   ]
  },
  {
   "cell_type": "code",
   "execution_count": 9,
   "metadata": {},
   "outputs": [
    {
     "name": "stdout",
     "output_type": "stream",
     "text": [
      "header: \n",
      "  seq: 2960\n",
      "  stamp: \n",
      "    secs: 598\n",
      "    nsecs: 337000000\n",
      "  frame_id: \"camera_color_optical_frame\"\n",
      "height: 480\n",
      "width: 640\n",
      "distortion_model: \"plumb_bob\"\n",
      "D: []\n",
      "K: [462.1379699707031, 0.0, 320.0, 0.0, 462.1379699707031, 240.0, 0.0, 0.0, 1.0]\n",
      "R: [0.0, 0.0, 0.0, 0.0, 0.0, 0.0, 0.0, 0.0, 0.0]\n",
      "P: [462.1379699707031, 0.0, 320.0, 0.0, 0.0, 462.1379699707031, 240.0, 0.0, 0.0, 0.0, 1.0, 0.0]\n",
      "binning_x: 0\n",
      "binning_y: 0\n",
      "roi: \n",
      "  x_offset: 0\n",
      "  y_offset: 0\n",
      "  height: 0\n",
      "  width: 0\n",
      "  do_rectify: False\n",
      "---\n",
      "header: \n",
      "  seq: 2961\n",
      "  stamp: \n",
      "    secs: 598\n",
      "    nsecs: 526000000\n",
      "  frame_id: \"camera_color_optical_frame\"\n",
      "height: 480\n",
      "width: 640\n"
     ]
    }
   ],
   "source": [
    "! rostopic echo /camera/color/camera_info | head -n 30\n"
   ]
  },
  {
   "attachments": {},
   "cell_type": "markdown",
   "metadata": {},
   "source": [
    "We can read the documentation to figure out the camera intrinsics information.\n",
    "\n",
    "- http://docs.ros.org/en/noetic/api/sensor_msgs/html/msg/CameraInfo.html\n",
    "\n",
    "* `D` is the distortion parameter.\n",
    "* `K` is a (3x3) row-major instrinsic camera matrix for raw (distorted) images.\n",
    "* `R` is a (3x3) row-major rectification matrix (stereo cameras only).\n",
    "* `P` is a (3x4) row-major projection matrix of the rectified image.\n"
   ]
  }
 ],
 "metadata": {
  "kernelspec": {
   "display_name": "Python 3",
   "language": "python",
   "name": "python3"
  },
  "language_info": {
   "codemirror_mode": {
    "name": "ipython",
    "version": 3
   },
   "file_extension": ".py",
   "mimetype": "text/x-python",
   "name": "python",
   "nbconvert_exporter": "python",
   "pygments_lexer": "ipython3",
   "version": "3.8.10"
  },
  "orig_nbformat": 4,
  "vscode": {
   "interpreter": {
    "hash": "e7370f93d1d0cde622a1f8e1c04877d8463912d04d973331ad4851f04de6915a"
   }
  }
 },
 "nbformat": 4,
 "nbformat_minor": 2
}
